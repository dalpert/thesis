{
 "cells": [
  {
   "cell_type": "code",
   "execution_count": 1,
   "metadata": {
    "collapsed": true
   },
   "outputs": [],
   "source": [
    "# Libraries\n",
    "from bs4 import BeautifulSoup\n",
    "import numpy as np\n",
    "import pandas as pd\n",
    "import matplotlib\n",
    "import matplotlib.pyplot as plt\n",
    "import random\n",
    "import urllib\n",
    "import urllib2\n",
    "import re\n",
    "import unicodedata\n",
    "import datetime\n",
    "import requests\n",
    "import requests_cache\n",
    "requests_cache.install_cache('demo_cache')\n",
    "%matplotlib inline"
   ]
  },
  {
   "cell_type": "code",
   "execution_count": 2,
   "metadata": {
    "collapsed": true
   },
   "outputs": [],
   "source": [
    "link = 'https://www.basketball-reference.com/teams/OKC/2017.html'\n",
    "page = urllib.urlopen(link).read()\n",
    "soup = BeautifulSoup(page, \"lxml\")"
   ]
  },
  {
   "cell_type": "code",
   "execution_count": 3,
   "metadata": {
    "collapsed": true
   },
   "outputs": [],
   "source": [
    "timeline = soup.find('div', {'id': 'timeline_results'})"
   ]
  },
  {
   "cell_type": "code",
   "execution_count": 4,
   "metadata": {
    "collapsed": false
   },
   "outputs": [
    {
     "data": {
      "text/plain": [
       "<div class=\"\" id=\"timeline_results\">\\n<div class=\"section_heading\">\\n<h2><span>Recent\\xa0</span>Game Results</h2> <span class=\"section_heading_text\">Height of bar is margin of victory  \\u2022 Mouseover bar for details  \\u2022 Click for box score  \\u2022 Grouped by Month</span></div>\\n<div>\\n<ul class=\"timeline\" style=\"order: 12\">\\n<li class=\"result\">\\n<span class=\"poptip\" tip=\"1. Oct 26 @ PHI, OKC (1-0) beat PHI, 103-97\">\\n<a href=\"/boxscores/201610260PHI.html\"><span class=\"count win\" style=\"height:15%; margin-bottom:50px;\">1. Oct 26 @ PHI, OKC (1-0) beat PHI, 103-97</span></a>\\n</span>\\n</li>\\n<li class=\"offday\"><span class=\"poptip\" tip=\"Off Day\"><a><span class=\"count\" style=\"margin-bottom:50px;\"></span></a></span></li>\\n<li class=\"result\">\\n<span class=\"poptip\" tip=\"2. Oct 28, OKC (2-0) beat PHO, 113-110\">\\n<a href=\"/boxscores/201610280OKC.html\"><span class=\"count win\" style=\"height:7.5%; margin-bottom:50px;\">2. Oct 28, OKC (2-0) beat PHO, 113-110</span></a>\\n</span>\\n</li>\\n<li class=\"offday\"><span class=\"poptip\" tip=\"Off Day\"><a><span class=\"count\" style=\"margin-bottom:50px;\"></span></a></span></li>\\n<li class=\"result\">\\n<span class=\"poptip\" tip=\"3. Oct 30, OKC (3-0) beat LAL, 113-96\">\\n<a href=\"/boxscores/201610300OKC.html\"><span class=\"count win\" style=\"height:42.5%; margin-bottom:50px;\">3. Oct 30, OKC (3-0) beat LAL, 113-96</span></a>\\n</span>\\n</li>\\n<li class=\"offday\"><span class=\"poptip\" tip=\"Off Day\"><a><span class=\"count\" style=\"margin-bottom:50px;\"></span></a></span></li>\\n</ul>\\n<ul class=\"timeline\" style=\"order: 11\">\\n<li class=\"offday\"><span class=\"poptip\" tip=\"Off Day\"><a><span class=\"count\" style=\"margin-bottom:50px;\"></span></a></span></li>\\n<li class=\"result\">\\n<span class=\"poptip\" tip=\"4. Nov 2 @ LAC, OKC (4-0) beat LAC, 85-83\">\\n<a href=\"/boxscores/201611020LAC.html\"><span class=\"count win\" style=\"height:5%; margin-bottom:50px;\">4. Nov 2 @ LAC, OKC (4-0) beat LAC, 85-83</span></a>\\n</span>\\n</li>\\n<li class=\"result\">\\n<span class=\"poptip\" tip=\"5. Nov 3 @ GSW, OKC (4-1) lost to GSW, 96-122\">\\n<a href=\"/boxscores/201611030GSW.html\"><span class=\"count notwin\" style=\"height:50%; margin-bottom:0px;\">5. Nov 3 @ GSW, OKC (4-1) lost to GSW, 96-122</span></a>\\n</span>\\n</li>\\n<li class=\"offday\"><span class=\"poptip\" tip=\"Off Day\"><a><span class=\"count\" style=\"margin-bottom:50px;\"></span></a></span></li>\\n<li class=\"result\">\\n<span class=\"poptip\" tip=\"6. Nov 5, OKC (5-1) beat MIN, 112-92\">\\n<a href=\"/boxscores/201611050OKC.html\"><span class=\"count win\" style=\"height:50%; margin-bottom:50px;\">6. Nov 5, OKC (5-1) beat MIN, 112-92</span></a>\\n</span>\\n</li>\\n<li class=\"offday\"><span class=\"poptip\" tip=\"Off Day\"><a><span class=\"count\" style=\"margin-bottom:50px;\"></span></a></span></li>\\n<li class=\"result\">\\n<span class=\"poptip\" tip=\"7. Nov 7, OKC (6-1) beat MIA, 97-85\">\\n<a href=\"/boxscores/201611070OKC.html\"><span class=\"count win\" style=\"height:30%; margin-bottom:50px;\">7. Nov 7, OKC (6-1) beat MIA, 97-85</span></a>\\n</span>\\n</li>\\n<li class=\"offday\"><span class=\"poptip\" tip=\"Off Day\"><a><span class=\"count\" style=\"margin-bottom:50px;\"></span></a></span></li>\\n<li class=\"result\">\\n<span class=\"poptip\" tip=\"8. Nov 9, OKC (6-2) lost to TOR, 102-112\">\\n<a href=\"/boxscores/201611090OKC.html\"><span class=\"count notwin\" style=\"height:25%; margin-bottom:25px;\">8. Nov 9, OKC (6-2) lost to TOR, 102-112</span></a>\\n</span>\\n</li>\\n<li class=\"offday\"><span class=\"poptip\" tip=\"Off Day\"><a><span class=\"count\" style=\"margin-bottom:50px;\"></span></a></span></li>\\n<li class=\"result\">\\n<span class=\"poptip\" tip=\"9. Nov 11, OKC (6-3) lost to LAC, 108-110\">\\n<a href=\"/boxscores/201611110OKC.html\"><span class=\"count notwin\" style=\"height:5%; margin-bottom:45px;\">9. Nov 11, OKC (6-3) lost to LAC, 108-110</span></a>\\n</span>\\n</li>\\n<li class=\"offday\"><span class=\"poptip\" tip=\"Off Day\"><a><span class=\"count\" style=\"margin-bottom:50px;\"></span></a></span></li>\\n<li class=\"result\">\\n<span class=\"poptip\" tip=\"10. Nov 13, OKC (6-4) lost to ORL, 117-119\">\\n<a href=\"/boxscores/201611130OKC.html\"><span class=\"count notwin\" style=\"height:5%; margin-bottom:45px;\">10. Nov 13, OKC (6-4) lost to ORL, 117-119</span></a>\\n</span>\\n</li>\\n<li class=\"result\">\\n<span class=\"poptip\" tip=\"11. Nov 14 @ DET, OKC (6-5) lost to DET, 88-104\">\\n<a href=\"/boxscores/201611140DET.html\"><span class=\"count notwin\" style=\"height:40%; margin-bottom:10px;\">11. Nov 14 @ DET, OKC (6-5) lost to DET, 88-104</span></a>\\n</span>\\n</li>\\n<li class=\"offday\"><span class=\"poptip\" tip=\"Off Day\"><a><span class=\"count\" style=\"margin-bottom:50px;\"></span></a></span></li>\\n<li class=\"result\">\\n<span class=\"poptip\" tip=\"12. Nov 16, OKC (7-5) beat HOU, 105-103\">\\n<a href=\"/boxscores/201611160OKC.html\"><span class=\"count win\" style=\"height:5%; margin-bottom:50px;\">12. Nov 16, OKC (7-5) beat HOU, 105-103</span></a>\\n</span>\\n</li>\\n<li class=\"offday\"><span class=\"poptip\" tip=\"Off Day\"><a><span class=\"count\" style=\"margin-bottom:50px;\"></span></a></span></li>\\n<li class=\"result\">\\n<span class=\"poptip\" tip=\"13. Nov 18, OKC (8-5) beat BRK, 124-105\">\\n<a href=\"/boxscores/201611180OKC.html\"><span class=\"count win\" style=\"height:47.5%; margin-bottom:50px;\">13. Nov 18, OKC (8-5) beat BRK, 124-105</span></a>\\n</span>\\n</li>\\n<li class=\"offday\"><span class=\"poptip\" tip=\"Off Day\"><a><span class=\"count\" style=\"margin-bottom:50px;\"></span></a></span></li>\\n<li class=\"result\">\\n<span class=\"poptip\" tip=\"14. Nov 20, OKC (8-6) lost to IND, 111-115\">\\n<a href=\"/boxscores/201611200OKC.html\"><span class=\"count notwin\" style=\"height:10%; margin-bottom:40px;\">14. Nov 20, OKC (8-6) lost to IND, 111-115</span></a>\\n</span>\\n</li>\\n<li class=\"offday\"><span class=\"poptip\" tip=\"Off Day\"><a><span class=\"count\" style=\"margin-bottom:50px;\"></span></a></span></li>\\n<li class=\"result\">\\n<span class=\"poptip\" tip=\"15. Nov 22 @ LAL, OKC (8-7) lost to LAL, 109-111\">\\n<a href=\"/boxscores/201611220LAL.html\"><span class=\"count notwin\" style=\"height:5%; margin-bottom:45px;\">15. Nov 22 @ LAL, OKC (8-7) lost to LAL, 109-111</span></a>\\n</span>\\n</li>\\n<li class=\"result\">\\n<span class=\"poptip\" tip=\"16. Nov 23 @ SAC, OKC (8-8) lost to SAC, 101-116\">\\n<a href=\"/boxscores/201611230SAC.html\"><span class=\"count notwin\" style=\"height:37.5%; margin-bottom:12.5px;\">16. Nov 23 @ SAC, OKC (8-8) lost to SAC, 101-116</span></a>\\n</span>\\n</li>\\n<li class=\"offday\"><span class=\"poptip\" tip=\"Off Day\"><a><span class=\"count\" style=\"margin-bottom:50px;\"></span></a></span></li>\\n<li class=\"result\">\\n<span class=\"poptip\" tip=\"17. Nov 25 @ DEN, OKC (9-8) beat DEN, 132-129\">\\n<a href=\"/boxscores/201611250DEN.html\"><span class=\"count win\" style=\"height:7.5%; margin-bottom:50px;\">17. Nov 25 @ DEN, OKC (9-8) beat DEN, 132-129</span></a>\\n</span>\\n</li>\\n<li class=\"result\">\\n<span class=\"poptip\" tip=\"18. Nov 26, OKC (10-8) beat DET, 106-88\">\\n<a href=\"/boxscores/201611260OKC.html\"><span class=\"count win\" style=\"height:45%; margin-bottom:50px;\">18. Nov 26, OKC (10-8) beat DET, 106-88</span></a>\\n</span>\\n</li>\\n<li class=\"offday\"><span class=\"poptip\" tip=\"Off Day\"><a><span class=\"count\" style=\"margin-bottom:50px;\"></span></a></span></li>\\n<li class=\"result\">\\n<span class=\"poptip\" tip=\"19. Nov 28 @ NYK, OKC (11-8) beat NYK, 112-103\">\\n<a href=\"/boxscores/201611280NYK.html\"><span class=\"count win\" style=\"height:22.5%; margin-bottom:50px;\">19. Nov 28 @ NYK, OKC (11-8) beat NYK, 112-103</span></a>\\n</span>\\n</li>\\n<li class=\"offday\"><span class=\"poptip\" tip=\"Off Day\"><a><span class=\"count\" style=\"margin-bottom:50px;\"></span></a></span></li>\\n<li class=\"result\">\\n<span class=\"poptip\" tip=\"20. Nov 30, OKC (12-8) beat WAS, 126-115\">\\n<a href=\"/boxscores/201611300OKC.html\"><span class=\"count win\" style=\"height:27.5%; margin-bottom:50px;\">20. Nov 30, OKC (12-8) beat WAS, 126-115</span></a>\\n</span>\\n</li>\\n</ul>\\n<ul class=\"timeline\" style=\"order: 10\">\\n<li class=\"offday\"><span class=\"poptip\" tip=\"Off Day\"><a><span class=\"count\" style=\"margin-bottom:50px;\"></span></a></span></li>\\n<li class=\"offday\"><span class=\"poptip\" tip=\"Off Day\"><a><span class=\"count\" style=\"margin-bottom:50px;\"></span></a></span></li>\\n<li class=\"offday\"><span class=\"poptip\" tip=\"Off Day\"><a><span class=\"count\" style=\"margin-bottom:50px;\"></span></a></span></li>\\n<li class=\"result\">\\n<span class=\"poptip\" tip=\"21. Dec 4, OKC (13-8) beat NOP, 101-92\">\\n<a href=\"/boxscores/201612040OKC.html\"><span class=\"count win\" style=\"height:22.5%; margin-bottom:50px;\">21. Dec 4, OKC (13-8) beat NOP, 101-92</span></a>\\n</span>\\n</li>\\n<li class=\"result\">\\n<span class=\"poptip\" tip=\"22. Dec 5 @ ATL, OKC (14-8) beat ATL, 102-99\">\\n<a href=\"/boxscores/201612050ATL.html\"><span class=\"count win\" style=\"height:7.5%; margin-bottom:50px;\">22. Dec 5 @ ATL, OKC (14-8) beat ATL, 102-99</span></a>\\n</span>\\n</li>\\n<li class=\"offday\"><span class=\"poptip\" tip=\"Off Day\"><a><span class=\"count\" style=\"margin-bottom:50px;\"></span></a></span></li>\\n<li class=\"offday\"><span class=\"poptip\" tip=\"Off Day\"><a><span class=\"count\" style=\"margin-bottom:50px;\"></span></a></span></li>\\n<li class=\"offday\"><span class=\"poptip\" tip=\"Off Day\"><a><span class=\"count\" style=\"margin-bottom:50px;\"></span></a></span></li>\\n<li class=\"result\">\\n<span class=\"poptip\" tip=\"23. Dec 9, OKC (14-9) lost to HOU, 99-102\">\\n<a href=\"/boxscores/201612090OKC.html\"><span class=\"count notwin\" style=\"height:7.5%; margin-bottom:42.5px;\">23. Dec 9, OKC (14-9) lost to HOU, 99-102</span></a>\\n</span>\\n</li>\\n<li class=\"offday\"><span class=\"poptip\" tip=\"Off Day\"><a><span class=\"count\" style=\"margin-bottom:50px;\"></span></a></span></li>\\n<li class=\"result\">\\n<span class=\"poptip\" tip=\"24. Dec 11, OKC (15-9) beat BOS, 99-96\">\\n<a href=\"/boxscores/201612110OKC.html\"><span class=\"count win\" style=\"height:7.5%; margin-bottom:50px;\">24. Dec 11, OKC (15-9) beat BOS, 99-96</span></a>\\n</span>\\n</li>\\n<li class=\"offday\"><span class=\"poptip\" tip=\"Off Day\"><a><span class=\"count\" style=\"margin-bottom:50px;\"></span></a></span></li>\\n<li class=\"result\">\\n<span class=\"poptip\" tip=\"25. Dec 13 @ POR, OKC (15-10) lost to POR, 95-114\">\\n<a href=\"/boxscores/201612130POR.html\"><span class=\"count notwin\" style=\"height:47.5%; margin-bottom:2.5px;\">25. Dec 13 @ POR, OKC (15-10) lost to POR, 95-114</span></a>\\n</span>\\n</li>\\n<li class=\"result\">\\n<span class=\"poptip\" tip=\"26. Dec 14 @ UTA, OKC (15-11) lost to UTA, 89-109\">\\n<a href=\"/boxscores/201612140UTA.html\"><span class=\"count notwin\" style=\"height:50%; margin-bottom:0px;\">26. Dec 14 @ UTA, OKC (15-11) lost to UTA, 89-109</span></a>\\n</span>\\n</li>\\n<li class=\"offday\"><span class=\"poptip\" tip=\"Off Day\"><a><span class=\"count\" style=\"margin-bottom:50px;\"></span></a></span></li>\\n<li class=\"offday\"><span class=\"poptip\" tip=\"Off Day\"><a><span class=\"count\" style=\"margin-bottom:50px;\"></span></a></span></li>\\n<li class=\"result\">\\n<span class=\"poptip\" tip=\"27. Dec 17, OKC (16-11) beat PHO, 114-101\">\\n<a href=\"/boxscores/201612170OKC.html\"><span class=\"count win\" style=\"height:32.5%; margin-bottom:50px;\">27. Dec 17, OKC (16-11) beat PHO, 114-101</span></a>\\n</span>\\n</li>\\n<li class=\"offday\"><span class=\"poptip\" tip=\"Off Day\"><a><span class=\"count\" style=\"margin-bottom:50px;\"></span></a></span></li>\\n<li class=\"result\">\\n<span class=\"poptip\" tip=\"28. Dec 19, OKC (16-12) lost to ATL, 108-110\">\\n<a href=\"/boxscores/201612190OKC.html\"><span class=\"count notwin\" style=\"height:5%; margin-bottom:45px;\">28. Dec 19, OKC (16-12) lost to ATL, 108-110</span></a>\\n</span>\\n</li>\\n<li class=\"offday\"><span class=\"poptip\" tip=\"Off Day\"><a><span class=\"count\" style=\"margin-bottom:50px;\"></span></a></span></li>\\n<li class=\"result\">\\n<span class=\"poptip\" tip=\"29. Dec 21 @ NOP, OKC (17-12) beat NOP, 121-110\">\\n<a href=\"/boxscores/201612210NOP.html\"><span class=\"count win\" style=\"height:27.5%; margin-bottom:50px;\">29. Dec 21 @ NOP, OKC (17-12) beat NOP, 121-110</span></a>\\n</span>\\n</li>\\n<li class=\"offday\"><span class=\"poptip\" tip=\"Off Day\"><a><span class=\"count\" style=\"margin-bottom:50px;\"></span></a></span></li>\\n<li class=\"result\">\\n<span class=\"poptip\" tip=\"30. Dec 23 @ BOS, OKC (18-12) beat BOS, 117-112\">\\n<a href=\"/boxscores/201612230BOS.html\"><span class=\"count win\" style=\"height:12.5%; margin-bottom:50px;\">30. Dec 23 @ BOS, OKC (18-12) beat BOS, 117-112</span></a>\\n</span>\\n</li>\\n<li class=\"offday\"><span class=\"poptip\" tip=\"Off Day\"><a><span class=\"count\" style=\"margin-bottom:50px;\"></span></a></span></li>\\n<li class=\"result\">\\n<span class=\"poptip\" tip=\"31. Dec 25, OKC (19-12) beat MIN, 112-100\">\\n<a href=\"/boxscores/201612250OKC.html\"><span class=\"count win\" style=\"height:30%; margin-bottom:50px;\">31. Dec 25, OKC (19-12) beat MIN, 112-100</span></a>\\n</span>\\n</li>\\n<li class=\"offday\"><span class=\"poptip\" tip=\"Off Day\"><a><span class=\"count\" style=\"margin-bottom:50px;\"></span></a></span></li>\\n<li class=\"result\">\\n<span class=\"poptip\" tip=\"32. Dec 27 @ MIA, OKC (20-12) beat MIA, 106-94\">\\n<a href=\"/boxscores/201612270MIA.html\"><span class=\"count win\" style=\"height:30%; margin-bottom:50px;\">32. Dec 27 @ MIA, OKC (20-12) beat MIA, 106-94</span></a>\\n</span>\\n</li>\\n<li class=\"offday\"><span class=\"poptip\" tip=\"Off Day\"><a><span class=\"count\" style=\"margin-bottom:50px;\"></span></a></span></li>\\n<li class=\"result\">\\n<span class=\"poptip\" tip=\"33. Dec 29 @ MEM, OKC (20-13) lost to MEM, 80-114\">\\n<a href=\"/boxscores/201612290MEM.html\"><span class=\"count notwin\" style=\"height:50%; margin-bottom:0px;\">33. Dec 29 @ MEM, OKC (20-13) lost to MEM, 80-114</span></a>\\n</span>\\n</li>\\n<li class=\"offday\"><span class=\"poptip\" tip=\"Off Day\"><a><span class=\"count\" style=\"margin-bottom:50px;\"></span></a></span></li>\\n<li class=\"result\">\\n<span class=\"poptip\" tip=\"34. Dec 31, OKC (21-13) beat LAC, 114-88\">\\n<a href=\"/boxscores/201612310OKC.html\"><span class=\"count win\" style=\"height:50%; margin-bottom:50px;\">34. Dec 31, OKC (21-13) beat LAC, 114-88</span></a>\\n</span>\\n</li>\\n</ul>\\n<ul class=\"timeline\" style=\"order: 9\">\\n<li class=\"offday\"><span class=\"poptip\" tip=\"Off Day\"><a><span class=\"count\" style=\"margin-bottom:50px;\"></span></a></span></li>\\n<li class=\"result\">\\n<span class=\"poptip\" tip=\"35. Jan 2 @ MIL, OKC (21-14) lost to MIL, 94-98\">\\n<a href=\"/boxscores/201701020MIL.html\"><span class=\"count notwin\" style=\"height:10%; margin-bottom:40px;\">35. Jan 2 @ MIL, OKC (21-14) lost to MIL, 94-98</span></a>\\n</span>\\n</li>\\n<li class=\"offday\"><span class=\"poptip\" tip=\"Off Day\"><a><span class=\"count\" style=\"margin-bottom:50px;\"></span></a></span></li>\\n<li class=\"result\">\\n<span class=\"poptip\" tip=\"36. Jan 4 @ CHO, OKC (21-15) lost to CHO, 112-123\">\\n<a href=\"/boxscores/201701040CHO.html\"><span class=\"count notwin\" style=\"height:27.5%; margin-bottom:22.5px;\">36. Jan 4 @ CHO, OKC (21-15) lost to CHO, 112-123</span></a>\\n</span>\\n</li>\\n<li class=\"result\">\\n<span class=\"poptip\" tip=\"37. Jan 5 @ HOU, OKC (21-16) lost to HOU, 116-118\">\\n<a href=\"/boxscores/201701050HOU.html\"><span class=\"count notwin\" style=\"height:5%; margin-bottom:45px;\">37. Jan 5 @ HOU, OKC (21-16) lost to HOU, 116-118</span></a>\\n</span>\\n</li>\\n<li class=\"offday\"><span class=\"poptip\" tip=\"Off Day\"><a><span class=\"count\" style=\"margin-bottom:50px;\"></span></a></span></li>\\n<li class=\"result\">\\n<span class=\"poptip\" tip=\"38. Jan 7, OKC (22-16) beat DEN, 121-106\">\\n<a href=\"/boxscores/201701070OKC.html\"><span class=\"count win\" style=\"height:37.5%; margin-bottom:50px;\">38. Jan 7, OKC (22-16) beat DEN, 121-106</span></a>\\n</span>\\n</li>\\n<li class=\"offday\"><span class=\"poptip\" tip=\"Off Day\"><a><span class=\"count\" style=\"margin-bottom:50px;\"></span></a></span></li>\\n<li class=\"result\">\\n<span class=\"poptip\" tip=\"39. Jan 9 @ CHI, OKC (23-16) beat CHI, 109-94\">\\n<a href=\"/boxscores/201701090CHI.html\"><span class=\"count win\" style=\"height:37.5%; margin-bottom:50px;\">39. Jan 9 @ CHI, OKC (23-16) beat CHI, 109-94</span></a>\\n</span>\\n</li>\\n<li class=\"offday\"><span class=\"poptip\" tip=\"Off Day\"><a><span class=\"count\" style=\"margin-bottom:50px;\"></span></a></span></li>\\n<li class=\"result\">\\n<span class=\"poptip\" tip=\"40. Jan 11, OKC (24-16) beat MEM, 103-95\">\\n<a href=\"/boxscores/201701110OKC.html\"><span class=\"count win\" style=\"height:20%; margin-bottom:50px;\">40. Jan 11, OKC (24-16) beat MEM, 103-95</span></a>\\n</span>\\n</li>\\n<li class=\"offday\"><span class=\"poptip\" tip=\"Off Day\"><a><span class=\"count\" style=\"margin-bottom:50px;\"></span></a></span></li>\\n<li class=\"result\">\\n<span class=\"poptip\" tip=\"41. Jan 13 @ MIN, OKC (24-17) lost to MIN, 86-96\">\\n<a href=\"/boxscores/201701130MIN.html\"><span class=\"count notwin\" style=\"height:25%; margin-bottom:25px;\">41. Jan 13 @ MIN, OKC (24-17) lost to MIN, 86-96</span></a>\\n</span>\\n</li>\\n<li class=\"offday\"><span class=\"poptip\" tip=\"Off Day\"><a><span class=\"count\" style=\"margin-bottom:50px;\"></span></a></span></li>\\n<li class=\"result\">\\n<span class=\"poptip\" tip=\"42. Jan 15 @ SAC, OKC (25-17) beat SAC, 122-118\">\\n<a href=\"/boxscores/201701150SAC.html\"><span class=\"count win\" style=\"height:10%; margin-bottom:50px;\">42. Jan 15 @ SAC, OKC (25-17) beat SAC, 122-118</span></a>\\n</span>\\n</li>\\n<li class=\"result\">\\n<span class=\"poptip\" tip=\"43. Jan 16 @ LAC, OKC (25-18) lost to LAC, 98-120\">\\n<a href=\"/boxscores/201701160LAC.html\"><span class=\"count notwin\" style=\"height:50%; margin-bottom:0px;\">43. Jan 16 @ LAC, OKC (25-18) lost to LAC, 98-120</span></a>\\n</span>\\n</li>\\n<li class=\"offday\"><span class=\"poptip\" tip=\"Off Day\"><a><span class=\"count\" style=\"margin-bottom:50px;\"></span></a></span></li>\\n<li class=\"result\">\\n<span class=\"poptip\" tip=\"44. Jan 18 @ GSW, OKC (25-19) lost to GSW, 100-121\">\\n<a href=\"/boxscores/201701180GSW.html\"><span class=\"count notwin\" style=\"height:50%; margin-bottom:0px;\">44. Jan 18 @ GSW, OKC (25-19) lost to GSW, 100-121</span></a>\\n</span>\\n</li>\\n<li class=\"offday\"><span class=\"poptip\" tip=\"Off Day\"><a><span class=\"count\" style=\"margin-bottom:50px;\"></span></a></span></li>\\n<li class=\"offday\"><span class=\"poptip\" tip=\"Off Day\"><a><span class=\"count\" style=\"margin-bottom:50px;\"></span></a></span></li>\\n<li class=\"offday\"><span class=\"poptip\" tip=\"Off Day\"><a><span class=\"count\" style=\"margin-bottom:50px;\"></span></a></span></li>\\n<li class=\"offday\"><span class=\"poptip\" tip=\"Off Day\"><a><span class=\"count\" style=\"margin-bottom:50px;\"></span></a></span></li>\\n<li class=\"result\">\\n<span class=\"poptip\" tip=\"45. Jan 23 @ UTA, OKC (26-19) beat UTA, 97-95\">\\n<a href=\"/boxscores/201701230UTA.html\"><span class=\"count win\" style=\"height:5%; margin-bottom:50px;\">45. Jan 23 @ UTA, OKC (26-19) beat UTA, 97-95</span></a>\\n</span>\\n</li>\\n<li class=\"offday\"><span class=\"poptip\" tip=\"Off Day\"><a><span class=\"count\" style=\"margin-bottom:50px;\"></span></a></span></li>\\n<li class=\"result\">\\n<span class=\"poptip\" tip=\"46. Jan 25 @ NOP, OKC (27-19) beat NOP, 114-105\">\\n<a href=\"/boxscores/201701250NOP.html\"><span class=\"count win\" style=\"height:22.5%; margin-bottom:50px;\">46. Jan 25 @ NOP, OKC (27-19) beat NOP, 114-105</span></a>\\n</span>\\n</li>\\n<li class=\"result\">\\n<span class=\"poptip\" tip=\"47. Jan 26, OKC (28-19) beat DAL, 109-98\">\\n<a href=\"/boxscores/201701260OKC.html\"><span class=\"count win\" style=\"height:27.5%; margin-bottom:50px;\">47. Jan 26, OKC (28-19) beat DAL, 109-98</span></a>\\n</span>\\n</li>\\n<li class=\"offday\"><span class=\"poptip\" tip=\"Off Day\"><a><span class=\"count\" style=\"margin-bottom:50px;\"></span></a></span></li>\\n<li class=\"offday\"><span class=\"poptip\" tip=\"Off Day\"><a><span class=\"count\" style=\"margin-bottom:50px;\"></span></a></span></li>\\n<li class=\"result\">\\n<span class=\"poptip\" tip=\"48. Jan 29 @ CLE, OKC (28-20) lost to CLE, 91-107\">\\n<a href=\"/boxscores/201701290CLE.html\"><span class=\"count notwin\" style=\"height:40%; margin-bottom:10px;\">48. Jan 29 @ CLE, OKC (28-20) lost to CLE, 91-107</span></a>\\n</span>\\n</li>\\n<li class=\"offday\"><span class=\"poptip\" tip=\"Off Day\"><a><span class=\"count\" style=\"margin-bottom:50px;\"></span></a></span></li>\\n<li class=\"result\">\\n<span class=\"poptip\" tip=\"49. Jan 31 @ SAS, OKC (28-21) lost to SAS, 94-108\">\\n<a href=\"/boxscores/201701310SAS.html\"><span class=\"count notwin\" style=\"height:35%; margin-bottom:15px;\">49. Jan 31 @ SAS, OKC (28-21) lost to SAS, 94-108</span></a>\\n</span>\\n</li>\\n</ul>\\n<ul class=\"timeline\" style=\"order: 8\">\\n<li class=\"result\">\\n<span class=\"poptip\" tip=\"50. Feb 1, OKC (28-22) lost to CHI, 100-128\">\\n<a href=\"/boxscores/201702010OKC.html\"><span class=\"count notwin\" style=\"height:50%; margin-bottom:0px;\">50. Feb 1, OKC (28-22) lost to CHI, 100-128</span></a>\\n</span>\\n</li>\\n<li class=\"offday\"><span class=\"poptip\" tip=\"Off Day\"><a><span class=\"count\" style=\"margin-bottom:50px;\"></span></a></span></li>\\n<li class=\"result\">\\n<span class=\"poptip\" tip=\"51. Feb 3, OKC (29-22) beat MEM, 114-102\">\\n<a href=\"/boxscores/201702030OKC.html\"><span class=\"count win\" style=\"height:30%; margin-bottom:50px;\">51. Feb 3, OKC (29-22) beat MEM, 114-102</span></a>\\n</span>\\n</li>\\n<li class=\"offday\"><span class=\"poptip\" tip=\"Off Day\"><a><span class=\"count\" style=\"margin-bottom:50px;\"></span></a></span></li>\\n<li class=\"result\">\\n<span class=\"poptip\" tip=\"52. Feb 5, OKC (30-22) beat POR, 105-99\">\\n<a href=\"/boxscores/201702050OKC.html\"><span class=\"count win\" style=\"height:15%; margin-bottom:50px;\">52. Feb 5, OKC (30-22) beat POR, 105-99</span></a>\\n</span>\\n</li>\\n<li class=\"result\">\\n<span class=\"poptip\" tip=\"53. Feb 6 @ IND, OKC (30-23) lost to IND, 90-93\">\\n<a href=\"/boxscores/201702060IND.html\"><span class=\"count notwin\" style=\"height:7.5%; margin-bottom:42.5px;\">53. Feb 6 @ IND, OKC (30-23) lost to IND, 90-93</span></a>\\n</span>\\n</li>\\n<li class=\"offday\"><span class=\"poptip\" tip=\"Off Day\"><a><span class=\"count\" style=\"margin-bottom:50px;\"></span></a></span></li>\\n<li class=\"offday\"><span class=\"poptip\" tip=\"Off Day\"><a><span class=\"count\" style=\"margin-bottom:50px;\"></span></a></span></li>\\n<li class=\"result\">\\n<span class=\"poptip\" tip=\"54. Feb 9, OKC (31-23) beat CLE, 118-109\">\\n<a href=\"/boxscores/201702090OKC.html\"><span class=\"count win\" style=\"height:22.5%; margin-bottom:50px;\">54. Feb 9, OKC (31-23) beat CLE, 118-109</span></a>\\n</span>\\n</li>\\n<li class=\"offday\"><span class=\"poptip\" tip=\"Off Day\"><a><span class=\"count\" style=\"margin-bottom:50px;\"></span></a></span></li>\\n<li class=\"result\">\\n<span class=\"poptip\" tip=\"55. Feb 11, OKC (31-24) lost to GSW, 114-130\">\\n<a href=\"/boxscores/201702110OKC.html\"><span class=\"count notwin\" style=\"height:40%; margin-bottom:10px;\">55. Feb 11, OKC (31-24) lost to GSW, 114-130</span></a>\\n</span>\\n</li>\\n<li class=\"offday\"><span class=\"poptip\" tip=\"Off Day\"><a><span class=\"count\" style=\"margin-bottom:50px;\"></span></a></span></li>\\n<li class=\"result\">\\n<span class=\"poptip\" tip=\"56. Feb 13 @ WAS, OKC (31-25) lost to WAS, 98-120\">\\n<a href=\"/boxscores/201702130WAS.html\"><span class=\"count notwin\" style=\"height:50%; margin-bottom:0px;\">56. Feb 13 @ WAS, OKC (31-25) lost to WAS, 98-120</span></a>\\n</span>\\n</li>\\n<li class=\"offday\"><span class=\"poptip\" tip=\"Off Day\"><a><span class=\"count\" style=\"margin-bottom:50px;\"></span></a></span></li>\\n<li class=\"result\">\\n<span class=\"poptip\" tip=\"57. Feb 15, OKC (32-25) beat NYK, 116-105\">\\n<a href=\"/boxscores/201702150OKC.html\"><span class=\"count win\" style=\"height:27.5%; margin-bottom:50px;\">57. Feb 15, OKC (32-25) beat NYK, 116-105</span></a>\\n</span>\\n</li>\\n<li class=\"offday\"><span class=\"poptip\" tip=\"Off Day\"><a><span class=\"count\" style=\"margin-bottom:50px;\"></span></a></span></li>\\n<li class=\"offday\"><span class=\"poptip\" tip=\"Off Day\"><a><span class=\"count\" style=\"margin-bottom:50px;\"></span></a></span></li>\\n<li class=\"offday\"><span class=\"poptip\" tip=\"Off Day\"><a><span class=\"count\" style=\"margin-bottom:50px;\"></span></a></span></li>\\n<li class=\"offday asg\"><span class=\"poptip\" tip=\"All-Star Game\"><a><span class=\"count\" style=\"margin-bottom:50px;\"></span></a></span></li>\\n<li class=\"offday\"><span class=\"poptip\" tip=\"Off Day\"><a><span class=\"count\" style=\"margin-bottom:50px;\"></span></a></span></li>\\n<li class=\"offday\"><span class=\"poptip\" tip=\"Off Day\"><a><span class=\"count\" style=\"margin-bottom:50px;\"></span></a></span></li>\\n<li class=\"offday\"><span class=\"poptip\" tip=\"Off Day\"><a><span class=\"count\" style=\"margin-bottom:50px;\"></span></a></span></li>\\n<li class=\"offday\"><span class=\"poptip\" tip=\"Off Day\"><a><span class=\"count\" style=\"margin-bottom:50px;\"></span></a></span></li>\\n<li class=\"result\">\\n<span class=\"poptip\" tip=\"58. Feb 24, OKC (33-25) beat LAL, 110-93\">\\n<a href=\"/boxscores/201702240OKC.html\"><span class=\"count win\" style=\"height:42.5%; margin-bottom:50px;\">58. Feb 24, OKC (33-25) beat LAL, 110-93</span></a>\\n</span>\\n</li>\\n<li class=\"offday\"><span class=\"poptip\" tip=\"Off Day\"><a><span class=\"count\" style=\"margin-bottom:50px;\"></span></a></span></li>\\n<li class=\"result\">\\n<span class=\"poptip\" tip=\"59. Feb 26, OKC (34-25) beat NOP, 118-110\">\\n<a href=\"/boxscores/201702260OKC.html\"><span class=\"count win\" style=\"height:20%; margin-bottom:50px;\">59. Feb 26, OKC (34-25) beat NOP, 118-110</span></a>\\n</span>\\n</li>\\n<li class=\"offday\"><span class=\"poptip\" tip=\"Off Day\"><a><span class=\"count\" style=\"margin-bottom:50px;\"></span></a></span></li>\\n<li class=\"result\">\\n<span class=\"poptip\" tip=\"60. Feb 28, OKC (35-25) beat UTA, 109-106\">\\n<a href=\"/boxscores/201702280OKC.html\"><span class=\"count win\" style=\"height:7.5%; margin-bottom:50px;\">60. Feb 28, OKC (35-25) beat UTA, 109-106</span></a>\\n</span>\\n</li>\\n</ul>\\n<ul class=\"timeline\" style=\"order: 7\">\\n<li class=\"offday\"><span class=\"poptip\" tip=\"Off Day\"><a><span class=\"count\" style=\"margin-bottom:50px;\"></span></a></span></li>\\n<li class=\"result\">\\n<span class=\"poptip\" tip=\"61. Mar 2 @ POR, OKC (35-26) lost to POR, 109-114\">\\n<a href=\"/boxscores/201703020POR.html\"><span class=\"count notwin\" style=\"height:12.5%; margin-bottom:37.5px;\">61. Mar 2 @ POR, OKC (35-26) lost to POR, 109-114</span></a>\\n</span>\\n</li>\\n<li class=\"result\">\\n<span class=\"poptip\" tip=\"62. Mar 3 @ PHO, OKC (35-27) lost to PHO, 111-118\">\\n<a href=\"/boxscores/201703030PHO.html\"><span class=\"count notwin\" style=\"height:17.5%; margin-bottom:32.5px;\">62. Mar 3 @ PHO, OKC (35-27) lost to PHO, 111-118</span></a>\\n</span>\\n</li>\\n<li class=\"offday\"><span class=\"poptip\" tip=\"Off Day\"><a><span class=\"count\" style=\"margin-bottom:50px;\"></span></a></span></li>\\n<li class=\"result\">\\n<span class=\"poptip\" tip=\"63. Mar 5 @ DAL, OKC (35-28) lost to DAL, 89-104\">\\n<a href=\"/boxscores/201703050DAL.html\"><span class=\"count notwin\" style=\"height:37.5%; margin-bottom:12.5px;\">63. Mar 5 @ DAL, OKC (35-28) lost to DAL, 89-104</span></a>\\n</span>\\n</li>\\n<li class=\"offday\"><span class=\"poptip\" tip=\"Off Day\"><a><span class=\"count\" style=\"margin-bottom:50px;\"></span></a></span></li>\\n<li class=\"result\">\\n<span class=\"poptip\" tip=\"64. Mar 7, OKC (35-29) lost to POR, 121-126\">\\n<a href=\"/boxscores/201703070OKC.html\"><span class=\"count notwin\" style=\"height:12.5%; margin-bottom:37.5px;\">64. Mar 7, OKC (35-29) lost to POR, 121-126</span></a>\\n</span>\\n</li>\\n<li class=\"offday\"><span class=\"poptip\" tip=\"Off Day\"><a><span class=\"count\" style=\"margin-bottom:50px;\"></span></a></span></li>\\n<li class=\"result\">\\n<span class=\"poptip\" tip=\"65. Mar 9, OKC (36-29) beat SAS, 102-92\">\\n<a href=\"/boxscores/201703090OKC.html\"><span class=\"count win\" style=\"height:25%; margin-bottom:50px;\">65. Mar 9, OKC (36-29) beat SAS, 102-92</span></a>\\n</span>\\n</li>\\n<li class=\"offday\"><span class=\"poptip\" tip=\"Off Day\"><a><span class=\"count\" style=\"margin-bottom:50px;\"></span></a></span></li>\\n<li class=\"result\">\\n<span class=\"poptip\" tip=\"66. Mar 11, OKC (37-29) beat UTA, 112-104\">\\n<a href=\"/boxscores/201703110OKC.html\"><span class=\"count win\" style=\"height:20%; margin-bottom:50px;\">66. Mar 11, OKC (37-29) beat UTA, 112-104</span></a>\\n</span>\\n</li>\\n<li class=\"offday\"><span class=\"poptip\" tip=\"Off Day\"><a><span class=\"count\" style=\"margin-bottom:50px;\"></span></a></span></li>\\n<li class=\"offday\"><span class=\"poptip\" tip=\"Off Day\"><a><span class=\"count\" style=\"margin-bottom:50px;\"></span></a></span></li>\\n<li class=\"result\">\\n<span class=\"poptip\" tip=\"67. Mar 14 @ BRK, OKC (38-29) beat BRK, 122-104\">\\n<a href=\"/boxscores/201703140BRK.html\"><span class=\"count win\" style=\"height:45%; margin-bottom:50px;\">67. Mar 14 @ BRK, OKC (38-29) beat BRK, 122-104</span></a>\\n</span>\\n</li>\\n<li class=\"offday\"><span class=\"poptip\" tip=\"Off Day\"><a><span class=\"count\" style=\"margin-bottom:50px;\"></span></a></span></li>\\n<li class=\"result\">\\n<span class=\"poptip\" tip=\"68. Mar 16 @ TOR, OKC (39-29) beat TOR, 123-102\">\\n<a href=\"/boxscores/201703160TOR.html\"><span class=\"count win\" style=\"height:50%; margin-bottom:50px;\">68. Mar 16 @ TOR, OKC (39-29) beat TOR, 123-102</span></a>\\n</span>\\n</li>\\n<li class=\"offday\"><span class=\"poptip\" tip=\"Off Day\"><a><span class=\"count\" style=\"margin-bottom:50px;\"></span></a></span></li>\\n<li class=\"result\">\\n<span class=\"poptip\" tip=\"69. Mar 18, OKC (40-29) beat SAC, 110-94\">\\n<a href=\"/boxscores/201703180OKC.html\"><span class=\"count win\" style=\"height:40%; margin-bottom:50px;\">69. Mar 18, OKC (40-29) beat SAC, 110-94</span></a>\\n</span>\\n</li>\\n<li class=\"offday\"><span class=\"poptip\" tip=\"Off Day\"><a><span class=\"count\" style=\"margin-bottom:50px;\"></span></a></span></li>\\n<li class=\"result\">\\n<span class=\"poptip\" tip=\"70. Mar 20, OKC (40-30) lost to GSW, 95-111\">\\n<a href=\"/boxscores/201703200OKC.html\"><span class=\"count notwin\" style=\"height:40%; margin-bottom:10px;\">70. Mar 20, OKC (40-30) lost to GSW, 95-111</span></a>\\n</span>\\n</li>\\n<li class=\"offday\"><span class=\"poptip\" tip=\"Off Day\"><a><span class=\"count\" style=\"margin-bottom:50px;\"></span></a></span></li>\\n<li class=\"result\">\\n<span class=\"poptip\" tip=\"71. Mar 22, OKC (41-30) beat PHI, 122-97\">\\n<a href=\"/boxscores/201703220OKC.html\"><span class=\"count win\" style=\"height:50%; margin-bottom:50px;\">71. Mar 22, OKC (41-30) beat PHI, 122-97</span></a>\\n</span>\\n</li>\\n<li class=\"offday\"><span class=\"poptip\" tip=\"Off Day\"><a><span class=\"count\" style=\"margin-bottom:50px;\"></span></a></span></li>\\n<li class=\"offday\"><span class=\"poptip\" tip=\"Off Day\"><a><span class=\"count\" style=\"margin-bottom:50px;\"></span></a></span></li>\\n<li class=\"offday\"><span class=\"poptip\" tip=\"Off Day\"><a><span class=\"count\" style=\"margin-bottom:50px;\"></span></a></span></li>\\n<li class=\"result\">\\n<span class=\"poptip\" tip=\"72. Mar 26 @ HOU, OKC (41-31) lost to HOU, 125-137\">\\n<a href=\"/boxscores/201703260HOU.html\"><span class=\"count notwin\" style=\"height:30%; margin-bottom:20px;\">72. Mar 26 @ HOU, OKC (41-31) lost to HOU, 125-137</span></a>\\n</span>\\n</li>\\n<li class=\"result\">\\n<span class=\"poptip\" tip=\"73. Mar 27 @ DAL, OKC (42-31) beat DAL, 92-91\">\\n<a href=\"/boxscores/201703270DAL.html\"><span class=\"count win\" style=\"height:2.5%; margin-bottom:50px;\">73. Mar 27 @ DAL, OKC (42-31) beat DAL, 92-91</span></a>\\n</span>\\n</li>\\n<li class=\"offday\"><span class=\"poptip\" tip=\"Off Day\"><a><span class=\"count\" style=\"margin-bottom:50px;\"></span></a></span></li>\\n<li class=\"result\">\\n<span class=\"poptip\" tip=\"74. Mar 29 @ ORL, OKC (43-31) beat ORL, 114-106\">\\n<a href=\"/boxscores/201703290ORL.html\"><span class=\"count win\" style=\"height:20%; margin-bottom:50px;\">74. Mar 29 @ ORL, OKC (43-31) beat ORL, 114-106</span></a>\\n</span>\\n</li>\\n<li class=\"offday\"><span class=\"poptip\" tip=\"Off Day\"><a><span class=\"count\" style=\"margin-bottom:50px;\"></span></a></span></li>\\n<li class=\"result\">\\n<span class=\"poptip\" tip=\"75. Mar 31, OKC (43-32) lost to SAS, 95-100\">\\n<a href=\"/boxscores/201703310OKC.html\"><span class=\"count notwin\" style=\"height:12.5%; margin-bottom:37.5px;\">75. Mar 31, OKC (43-32) lost to SAS, 95-100</span></a>\\n</span>\\n</li>\\n</ul>\\n<ul class=\"timeline\" style=\"order: 6\">\\n<li class=\"offday\"><span class=\"poptip\" tip=\"Off Day\"><a><span class=\"count\" style=\"margin-bottom:50px;\"></span></a></span></li>\\n<li class=\"result\">\\n<span class=\"poptip\" tip=\"76. Apr 2, OKC (43-33) lost to CHO, 101-113\">\\n<a href=\"/boxscores/201704020OKC.html\"><span class=\"count notwin\" style=\"height:30%; margin-bottom:20px;\">76. Apr 2, OKC (43-33) lost to CHO, 101-113</span></a>\\n</span>\\n</li>\\n<li class=\"offday\"><span class=\"poptip\" tip=\"Off Day\"><a><span class=\"count\" style=\"margin-bottom:50px;\"></span></a></span></li>\\n<li class=\"result\">\\n<span class=\"poptip\" tip=\"77. Apr 4, OKC (44-33) beat MIL, 110-79\">\\n<a href=\"/boxscores/201704040OKC.html\"><span class=\"count win\" style=\"height:50%; margin-bottom:50px;\">77. Apr 4, OKC (44-33) beat MIL, 110-79</span></a>\\n</span>\\n</li>\\n<li class=\"result\">\\n<span class=\"poptip\" tip=\"78. Apr 5 @ MEM, OKC (45-33) beat MEM, 103-100\">\\n<a href=\"/boxscores/201704050MEM.html\"><span class=\"count win\" style=\"height:7.5%; margin-bottom:50px;\">78. Apr 5 @ MEM, OKC (45-33) beat MEM, 103-100</span></a>\\n</span>\\n</li>\\n<li class=\"offday\"><span class=\"poptip\" tip=\"Off Day\"><a><span class=\"count\" style=\"margin-bottom:50px;\"></span></a></span></li>\\n<li class=\"result\">\\n<span class=\"poptip\" tip=\"79. Apr 7 @ PHO, OKC (45-34) lost to PHO, 99-120\">\\n<a href=\"/boxscores/201704070PHO.html\"><span class=\"count notwin\" style=\"height:50%; margin-bottom:0px;\">79. Apr 7 @ PHO, OKC (45-34) lost to PHO, 99-120</span></a>\\n</span>\\n</li>\\n<li class=\"offday\"><span class=\"poptip\" tip=\"Off Day\"><a><span class=\"count\" style=\"margin-bottom:50px;\"></span></a></span></li>\\n<li class=\"result\">\\n<span class=\"poptip\" tip=\"80. Apr 9 @ DEN, OKC (46-34) beat DEN, 106-105\">\\n<a href=\"/boxscores/201704090DEN.html\"><span class=\"count win\" style=\"height:2.5%; margin-bottom:50px;\">80. Apr 9 @ DEN, OKC (46-34) beat DEN, 106-105</span></a>\\n</span>\\n</li>\\n<li class=\"offday\"><span class=\"poptip\" tip=\"Off Day\"><a><span class=\"count\" style=\"margin-bottom:50px;\"></span></a></span></li>\\n<li class=\"result\">\\n<span class=\"poptip\" tip=\"81. Apr 11 @ MIN, OKC (47-34) beat MIN, 100-98\">\\n<a href=\"/boxscores/201704110MIN.html\"><span class=\"count win\" style=\"height:5%; margin-bottom:50px;\">81. Apr 11 @ MIN, OKC (47-34) beat MIN, 100-98</span></a>\\n</span>\\n</li>\\n<li class=\"result\">\\n<span class=\"poptip\" tip=\"82. Apr 12, OKC (47-35) lost to DEN, 105-111\">\\n<a href=\"/boxscores/201704120OKC.html\"><span class=\"count notwin\" style=\"height:15%; margin-bottom:35px;\">82. Apr 12, OKC (47-35) lost to DEN, 105-111</span></a>\\n</span>\\n</li>\\n</ul>\\n</div>\\n</div>"
      ]
     },
     "execution_count": 4,
     "metadata": {},
     "output_type": "execute_result"
    }
   ],
   "source": [
    "timeline"
   ]
  },
  {
   "cell_type": "code",
   "execution_count": 47,
   "metadata": {
    "collapsed": true
   },
   "outputs": [],
   "source": [
    "uls = timeline.find_all('ul')"
   ]
  },
  {
   "cell_type": "code",
   "execution_count": 24,
   "metadata": {
    "collapsed": false
   },
   "outputs": [
    {
     "data": {
      "text/plain": [
       "7"
      ]
     },
     "execution_count": 24,
     "metadata": {},
     "output_type": "execute_result"
    }
   ],
   "source": [
    "len(uls)"
   ]
  },
  {
   "cell_type": "code",
   "execution_count": 25,
   "metadata": {
    "collapsed": true
   },
   "outputs": [],
   "source": [
    "lis = uls[2].find_all('li')"
   ]
  },
  {
   "cell_type": "code",
   "execution_count": 26,
   "metadata": {
    "collapsed": false
   },
   "outputs": [
    {
     "data": {
      "text/plain": [
       "31"
      ]
     },
     "execution_count": 26,
     "metadata": {},
     "output_type": "execute_result"
    }
   ],
   "source": [
    "len(lis)"
   ]
  },
  {
   "cell_type": "code",
   "execution_count": 30,
   "metadata": {
    "collapsed": false
   },
   "outputs": [
    {
     "data": {
      "text/plain": [
       "<li class=\"result\">\\n<span class=\"poptip\" tip=\"21. Dec 4, OKC (13-8) beat NOP, 101-92\">\\n<a href=\"/boxscores/201612040OKC.html\"><span class=\"count win\" style=\"height:22.5%; margin-bottom:50px;\">21. Dec 4, OKC (13-8) beat NOP, 101-92</span></a>\\n</span>\\n</li>"
      ]
     },
     "execution_count": 30,
     "metadata": {},
     "output_type": "execute_result"
    }
   ],
   "source": [
    "lis[3]"
   ]
  },
  {
   "cell_type": "code",
   "execution_count": 33,
   "metadata": {
    "collapsed": false
   },
   "outputs": [],
   "source": [
    "text = lis[3].text"
   ]
  },
  {
   "cell_type": "code",
   "execution_count": 36,
   "metadata": {
    "collapsed": false
   },
   "outputs": [],
   "source": [
    "word_lst = re.findall(r\"[\\w']+\", text)"
   ]
  },
  {
   "cell_type": "code",
   "execution_count": 37,
   "metadata": {
    "collapsed": false
   },
   "outputs": [],
   "source": [
    "g_num = int(word_lst[0])"
   ]
  },
  {
   "cell_type": "code",
   "execution_count": 38,
   "metadata": {
    "collapsed": false
   },
   "outputs": [
    {
     "data": {
      "text/plain": [
       "21"
      ]
     },
     "execution_count": 38,
     "metadata": {},
     "output_type": "execute_result"
    }
   ],
   "source": [
    "g_num"
   ]
  },
  {
   "cell_type": "code",
   "execution_count": 41,
   "metadata": {
    "collapsed": false
   },
   "outputs": [
    {
     "data": {
      "text/plain": [
       "False"
      ]
     },
     "execution_count": 41,
     "metadata": {},
     "output_type": "execute_result"
    }
   ],
   "source": [
    "'lost' in word_lst"
   ]
  },
  {
   "cell_type": "code",
   "execution_count": 42,
   "metadata": {
    "collapsed": true
   },
   "outputs": [],
   "source": [
    "result = 1 if 'beat' in word_lst else 0"
   ]
  },
  {
   "cell_type": "code",
   "execution_count": 44,
   "metadata": {
    "collapsed": false
   },
   "outputs": [
    {
     "data": {
      "text/plain": [
       "1"
      ]
     },
     "execution_count": 44,
     "metadata": {},
     "output_type": "execute_result"
    }
   ],
   "source": [
    "result"
   ]
  },
  {
   "cell_type": "code",
   "execution_count": 50,
   "metadata": {
    "collapsed": true
   },
   "outputs": [],
   "source": [
    "timeline = soup.find('div', {'id': 'timeline_results'})\n",
    "\n",
    "season_res = pd.DataFrame()\n",
    "uls = timeline.find_all('ul')\n",
    "for ul in uls:\n",
    "    lis = ul.find_all('li')\n",
    "    for li in lis:\n",
    "        text = li.text\n",
    "        if text != '':\n",
    "            word_lst = re.findall(r\"[\\w']+\", text)\n",
    "            g_num = int(word_lst[0])\n",
    "            result = 1 if 'beat' in word_lst else 0\n",
    "            season_res = season_res.append({'g_num': g_num,\n",
    "                                            'result': result}, \n",
    "                                          ignore_index=True)"
   ]
  },
  {
   "cell_type": "code",
   "execution_count": 51,
   "metadata": {
    "collapsed": false
   },
   "outputs": [
    {
     "data": {
      "text/html": [
       "<div>\n",
       "<style scoped>\n",
       "    .dataframe tbody tr th:only-of-type {\n",
       "        vertical-align: middle;\n",
       "    }\n",
       "\n",
       "    .dataframe tbody tr th {\n",
       "        vertical-align: top;\n",
       "    }\n",
       "\n",
       "    .dataframe thead th {\n",
       "        text-align: right;\n",
       "    }\n",
       "</style>\n",
       "<table border=\"1\" class=\"dataframe\">\n",
       "  <thead>\n",
       "    <tr style=\"text-align: right;\">\n",
       "      <th></th>\n",
       "      <th>g_num</th>\n",
       "      <th>result</th>\n",
       "    </tr>\n",
       "  </thead>\n",
       "  <tbody>\n",
       "    <tr>\n",
       "      <th>0</th>\n",
       "      <td>1.0</td>\n",
       "      <td>1.0</td>\n",
       "    </tr>\n",
       "    <tr>\n",
       "      <th>1</th>\n",
       "      <td>2.0</td>\n",
       "      <td>1.0</td>\n",
       "    </tr>\n",
       "    <tr>\n",
       "      <th>2</th>\n",
       "      <td>3.0</td>\n",
       "      <td>1.0</td>\n",
       "    </tr>\n",
       "    <tr>\n",
       "      <th>3</th>\n",
       "      <td>4.0</td>\n",
       "      <td>1.0</td>\n",
       "    </tr>\n",
       "    <tr>\n",
       "      <th>4</th>\n",
       "      <td>5.0</td>\n",
       "      <td>0.0</td>\n",
       "    </tr>\n",
       "    <tr>\n",
       "      <th>5</th>\n",
       "      <td>6.0</td>\n",
       "      <td>1.0</td>\n",
       "    </tr>\n",
       "    <tr>\n",
       "      <th>6</th>\n",
       "      <td>7.0</td>\n",
       "      <td>1.0</td>\n",
       "    </tr>\n",
       "    <tr>\n",
       "      <th>7</th>\n",
       "      <td>8.0</td>\n",
       "      <td>0.0</td>\n",
       "    </tr>\n",
       "    <tr>\n",
       "      <th>8</th>\n",
       "      <td>9.0</td>\n",
       "      <td>0.0</td>\n",
       "    </tr>\n",
       "    <tr>\n",
       "      <th>9</th>\n",
       "      <td>10.0</td>\n",
       "      <td>0.0</td>\n",
       "    </tr>\n",
       "    <tr>\n",
       "      <th>10</th>\n",
       "      <td>11.0</td>\n",
       "      <td>0.0</td>\n",
       "    </tr>\n",
       "    <tr>\n",
       "      <th>11</th>\n",
       "      <td>12.0</td>\n",
       "      <td>1.0</td>\n",
       "    </tr>\n",
       "    <tr>\n",
       "      <th>12</th>\n",
       "      <td>13.0</td>\n",
       "      <td>1.0</td>\n",
       "    </tr>\n",
       "    <tr>\n",
       "      <th>13</th>\n",
       "      <td>14.0</td>\n",
       "      <td>0.0</td>\n",
       "    </tr>\n",
       "    <tr>\n",
       "      <th>14</th>\n",
       "      <td>15.0</td>\n",
       "      <td>0.0</td>\n",
       "    </tr>\n",
       "    <tr>\n",
       "      <th>15</th>\n",
       "      <td>16.0</td>\n",
       "      <td>0.0</td>\n",
       "    </tr>\n",
       "    <tr>\n",
       "      <th>16</th>\n",
       "      <td>17.0</td>\n",
       "      <td>1.0</td>\n",
       "    </tr>\n",
       "    <tr>\n",
       "      <th>17</th>\n",
       "      <td>18.0</td>\n",
       "      <td>1.0</td>\n",
       "    </tr>\n",
       "    <tr>\n",
       "      <th>18</th>\n",
       "      <td>19.0</td>\n",
       "      <td>1.0</td>\n",
       "    </tr>\n",
       "    <tr>\n",
       "      <th>19</th>\n",
       "      <td>20.0</td>\n",
       "      <td>1.0</td>\n",
       "    </tr>\n",
       "    <tr>\n",
       "      <th>20</th>\n",
       "      <td>21.0</td>\n",
       "      <td>1.0</td>\n",
       "    </tr>\n",
       "    <tr>\n",
       "      <th>21</th>\n",
       "      <td>22.0</td>\n",
       "      <td>1.0</td>\n",
       "    </tr>\n",
       "    <tr>\n",
       "      <th>22</th>\n",
       "      <td>23.0</td>\n",
       "      <td>0.0</td>\n",
       "    </tr>\n",
       "    <tr>\n",
       "      <th>23</th>\n",
       "      <td>24.0</td>\n",
       "      <td>1.0</td>\n",
       "    </tr>\n",
       "    <tr>\n",
       "      <th>24</th>\n",
       "      <td>25.0</td>\n",
       "      <td>0.0</td>\n",
       "    </tr>\n",
       "    <tr>\n",
       "      <th>25</th>\n",
       "      <td>26.0</td>\n",
       "      <td>0.0</td>\n",
       "    </tr>\n",
       "    <tr>\n",
       "      <th>26</th>\n",
       "      <td>27.0</td>\n",
       "      <td>1.0</td>\n",
       "    </tr>\n",
       "    <tr>\n",
       "      <th>27</th>\n",
       "      <td>28.0</td>\n",
       "      <td>0.0</td>\n",
       "    </tr>\n",
       "    <tr>\n",
       "      <th>28</th>\n",
       "      <td>29.0</td>\n",
       "      <td>1.0</td>\n",
       "    </tr>\n",
       "    <tr>\n",
       "      <th>29</th>\n",
       "      <td>30.0</td>\n",
       "      <td>1.0</td>\n",
       "    </tr>\n",
       "    <tr>\n",
       "      <th>...</th>\n",
       "      <td>...</td>\n",
       "      <td>...</td>\n",
       "    </tr>\n",
       "    <tr>\n",
       "      <th>52</th>\n",
       "      <td>53.0</td>\n",
       "      <td>0.0</td>\n",
       "    </tr>\n",
       "    <tr>\n",
       "      <th>53</th>\n",
       "      <td>54.0</td>\n",
       "      <td>1.0</td>\n",
       "    </tr>\n",
       "    <tr>\n",
       "      <th>54</th>\n",
       "      <td>55.0</td>\n",
       "      <td>0.0</td>\n",
       "    </tr>\n",
       "    <tr>\n",
       "      <th>55</th>\n",
       "      <td>56.0</td>\n",
       "      <td>0.0</td>\n",
       "    </tr>\n",
       "    <tr>\n",
       "      <th>56</th>\n",
       "      <td>57.0</td>\n",
       "      <td>1.0</td>\n",
       "    </tr>\n",
       "    <tr>\n",
       "      <th>57</th>\n",
       "      <td>58.0</td>\n",
       "      <td>1.0</td>\n",
       "    </tr>\n",
       "    <tr>\n",
       "      <th>58</th>\n",
       "      <td>59.0</td>\n",
       "      <td>1.0</td>\n",
       "    </tr>\n",
       "    <tr>\n",
       "      <th>59</th>\n",
       "      <td>60.0</td>\n",
       "      <td>1.0</td>\n",
       "    </tr>\n",
       "    <tr>\n",
       "      <th>60</th>\n",
       "      <td>61.0</td>\n",
       "      <td>0.0</td>\n",
       "    </tr>\n",
       "    <tr>\n",
       "      <th>61</th>\n",
       "      <td>62.0</td>\n",
       "      <td>0.0</td>\n",
       "    </tr>\n",
       "    <tr>\n",
       "      <th>62</th>\n",
       "      <td>63.0</td>\n",
       "      <td>0.0</td>\n",
       "    </tr>\n",
       "    <tr>\n",
       "      <th>63</th>\n",
       "      <td>64.0</td>\n",
       "      <td>0.0</td>\n",
       "    </tr>\n",
       "    <tr>\n",
       "      <th>64</th>\n",
       "      <td>65.0</td>\n",
       "      <td>1.0</td>\n",
       "    </tr>\n",
       "    <tr>\n",
       "      <th>65</th>\n",
       "      <td>66.0</td>\n",
       "      <td>1.0</td>\n",
       "    </tr>\n",
       "    <tr>\n",
       "      <th>66</th>\n",
       "      <td>67.0</td>\n",
       "      <td>1.0</td>\n",
       "    </tr>\n",
       "    <tr>\n",
       "      <th>67</th>\n",
       "      <td>68.0</td>\n",
       "      <td>1.0</td>\n",
       "    </tr>\n",
       "    <tr>\n",
       "      <th>68</th>\n",
       "      <td>69.0</td>\n",
       "      <td>1.0</td>\n",
       "    </tr>\n",
       "    <tr>\n",
       "      <th>69</th>\n",
       "      <td>70.0</td>\n",
       "      <td>0.0</td>\n",
       "    </tr>\n",
       "    <tr>\n",
       "      <th>70</th>\n",
       "      <td>71.0</td>\n",
       "      <td>1.0</td>\n",
       "    </tr>\n",
       "    <tr>\n",
       "      <th>71</th>\n",
       "      <td>72.0</td>\n",
       "      <td>0.0</td>\n",
       "    </tr>\n",
       "    <tr>\n",
       "      <th>72</th>\n",
       "      <td>73.0</td>\n",
       "      <td>1.0</td>\n",
       "    </tr>\n",
       "    <tr>\n",
       "      <th>73</th>\n",
       "      <td>74.0</td>\n",
       "      <td>1.0</td>\n",
       "    </tr>\n",
       "    <tr>\n",
       "      <th>74</th>\n",
       "      <td>75.0</td>\n",
       "      <td>0.0</td>\n",
       "    </tr>\n",
       "    <tr>\n",
       "      <th>75</th>\n",
       "      <td>76.0</td>\n",
       "      <td>0.0</td>\n",
       "    </tr>\n",
       "    <tr>\n",
       "      <th>76</th>\n",
       "      <td>77.0</td>\n",
       "      <td>1.0</td>\n",
       "    </tr>\n",
       "    <tr>\n",
       "      <th>77</th>\n",
       "      <td>78.0</td>\n",
       "      <td>1.0</td>\n",
       "    </tr>\n",
       "    <tr>\n",
       "      <th>78</th>\n",
       "      <td>79.0</td>\n",
       "      <td>0.0</td>\n",
       "    </tr>\n",
       "    <tr>\n",
       "      <th>79</th>\n",
       "      <td>80.0</td>\n",
       "      <td>1.0</td>\n",
       "    </tr>\n",
       "    <tr>\n",
       "      <th>80</th>\n",
       "      <td>81.0</td>\n",
       "      <td>1.0</td>\n",
       "    </tr>\n",
       "    <tr>\n",
       "      <th>81</th>\n",
       "      <td>82.0</td>\n",
       "      <td>0.0</td>\n",
       "    </tr>\n",
       "  </tbody>\n",
       "</table>\n",
       "<p>82 rows × 2 columns</p>\n",
       "</div>"
      ],
      "text/plain": [
       "    g_num  result\n",
       "0     1.0     1.0\n",
       "1     2.0     1.0\n",
       "2     3.0     1.0\n",
       "3     4.0     1.0\n",
       "4     5.0     0.0\n",
       "5     6.0     1.0\n",
       "6     7.0     1.0\n",
       "7     8.0     0.0\n",
       "8     9.0     0.0\n",
       "9    10.0     0.0\n",
       "10   11.0     0.0\n",
       "11   12.0     1.0\n",
       "12   13.0     1.0\n",
       "13   14.0     0.0\n",
       "14   15.0     0.0\n",
       "15   16.0     0.0\n",
       "16   17.0     1.0\n",
       "17   18.0     1.0\n",
       "18   19.0     1.0\n",
       "19   20.0     1.0\n",
       "20   21.0     1.0\n",
       "21   22.0     1.0\n",
       "22   23.0     0.0\n",
       "23   24.0     1.0\n",
       "24   25.0     0.0\n",
       "25   26.0     0.0\n",
       "26   27.0     1.0\n",
       "27   28.0     0.0\n",
       "28   29.0     1.0\n",
       "29   30.0     1.0\n",
       "..    ...     ...\n",
       "52   53.0     0.0\n",
       "53   54.0     1.0\n",
       "54   55.0     0.0\n",
       "55   56.0     0.0\n",
       "56   57.0     1.0\n",
       "57   58.0     1.0\n",
       "58   59.0     1.0\n",
       "59   60.0     1.0\n",
       "60   61.0     0.0\n",
       "61   62.0     0.0\n",
       "62   63.0     0.0\n",
       "63   64.0     0.0\n",
       "64   65.0     1.0\n",
       "65   66.0     1.0\n",
       "66   67.0     1.0\n",
       "67   68.0     1.0\n",
       "68   69.0     1.0\n",
       "69   70.0     0.0\n",
       "70   71.0     1.0\n",
       "71   72.0     0.0\n",
       "72   73.0     1.0\n",
       "73   74.0     1.0\n",
       "74   75.0     0.0\n",
       "75   76.0     0.0\n",
       "76   77.0     1.0\n",
       "77   78.0     1.0\n",
       "78   79.0     0.0\n",
       "79   80.0     1.0\n",
       "80   81.0     1.0\n",
       "81   82.0     0.0\n",
       "\n",
       "[82 rows x 2 columns]"
      ]
     },
     "execution_count": 51,
     "metadata": {},
     "output_type": "execute_result"
    }
   ],
   "source": [
    "season_res"
   ]
  },
  {
   "cell_type": "code",
   "execution_count": 53,
   "metadata": {
    "collapsed": false
   },
   "outputs": [
    {
     "data": {
      "text/plain": [
       "47.0"
      ]
     },
     "execution_count": 53,
     "metadata": {},
     "output_type": "execute_result"
    }
   ],
   "source": [
    "sum(season_res['result'])"
   ]
  },
  {
   "cell_type": "code",
   "execution_count": null,
   "metadata": {
    "collapsed": true
   },
   "outputs": [],
   "source": []
  }
 ],
 "metadata": {
  "kernelspec": {
   "display_name": "Python [Root]",
   "language": "python",
   "name": "Python [Root]"
  },
  "language_info": {
   "codemirror_mode": {
    "name": "ipython",
    "version": 2
   },
   "file_extension": ".py",
   "mimetype": "text/x-python",
   "name": "python",
   "nbconvert_exporter": "python",
   "pygments_lexer": "ipython2",
   "version": "2.7.12"
  }
 },
 "nbformat": 4,
 "nbformat_minor": 0
}
