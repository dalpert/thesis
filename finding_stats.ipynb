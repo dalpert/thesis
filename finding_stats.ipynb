{
 "cells": [
  {
   "cell_type": "code",
   "execution_count": 11,
   "metadata": {
    "collapsed": true
   },
   "outputs": [],
   "source": [
    "# Libraries\n",
    "from bs4 import BeautifulSoup, Comment\n",
    "import numpy as np\n",
    "import pandas as pd\n",
    "import itertools as it\n",
    "import matplotlib\n",
    "import matplotlib.pyplot as plt\n",
    "import random\n",
    "import urllib\n",
    "import urllib2\n",
    "import os\n",
    "import re\n",
    "import scipy.stats as stats\n",
    "import unicodedata\n",
    "import datetime\n",
    "import requests\n",
    "import requests_cache\n",
    "requests_cache.install_cache('demo_cache')\n",
    "%matplotlib inline"
   ]
  },
  {
   "cell_type": "code",
   "execution_count": 41,
   "metadata": {
    "collapsed": true
   },
   "outputs": [],
   "source": [
    "def get_playoffs(df, yr):\n",
    "    return df[(df['datetime'] > datetime.date(yr,4,1)) & (df['g_num'] <= 7)]"
   ]
  },
  {
   "cell_type": "code",
   "execution_count": 42,
   "metadata": {
    "collapsed": true
   },
   "outputs": [],
   "source": [
    "def get_reg_season(df, yr):\n",
    "    return df[(df['datetime'] < datetime.date(yr,4,1)) | (df['g_num'] > 7)]"
   ]
  },
  {
   "cell_type": "code",
   "execution_count": 46,
   "metadata": {
    "collapsed": true
   },
   "outputs": [],
   "source": [
    "def timestamp_to_datetime(timestamp):\n",
    "    return datetime.date(timestamp.year, timestamp.month, timestamp.day)"
   ]
  },
  {
   "cell_type": "code",
   "execution_count": 47,
   "metadata": {
    "collapsed": true
   },
   "outputs": [],
   "source": [
    "def fix_dates(df):\n",
    "    df = df.reset_index()\n",
    "    datetimes = []\n",
    "    for timestamp in df['date']:\n",
    "        datetimes.append(timestamp_to_datetime(timestamp))\n",
    "    df['datetime'] = datetimes\n",
    "    return df"
   ]
  },
  {
   "cell_type": "code",
   "execution_count": 4,
   "metadata": {
    "collapsed": false
   },
   "outputs": [],
   "source": [
    "df = pd.read_excel('data/box_scores/box_score_2017.xlsx')"
   ]
  },
  {
   "cell_type": "code",
   "execution_count": 7,
   "metadata": {
    "collapsed": false
   },
   "outputs": [
    {
     "name": "stdout",
     "output_type": "stream",
     "text": [
      "(27874, 42)\n"
     ]
    },
    {
     "data": {
      "text/html": [
       "<div>\n",
       "<style scoped>\n",
       "    .dataframe tbody tr th:only-of-type {\n",
       "        vertical-align: middle;\n",
       "    }\n",
       "\n",
       "    .dataframe tbody tr th {\n",
       "        vertical-align: top;\n",
       "    }\n",
       "\n",
       "    .dataframe thead th {\n",
       "        text-align: right;\n",
       "    }\n",
       "</style>\n",
       "<table border=\"1\" class=\"dataframe\">\n",
       "  <thead>\n",
       "    <tr style=\"text-align: right;\">\n",
       "      <th></th>\n",
       "      <th>ast</th>\n",
       "      <th>blk</th>\n",
       "      <th>drb</th>\n",
       "      <th>fg</th>\n",
       "      <th>fg3</th>\n",
       "      <th>fg3_pct</th>\n",
       "      <th>fg3a</th>\n",
       "      <th>fg_pct</th>\n",
       "      <th>fga</th>\n",
       "      <th>ft</th>\n",
       "      <th>...</th>\n",
       "      <th>stl_pct</th>\n",
       "      <th>tov_pct</th>\n",
       "      <th>trb_pct</th>\n",
       "      <th>ts_pct</th>\n",
       "      <th>usg_pct</th>\n",
       "      <th>g_num</th>\n",
       "      <th>g_id</th>\n",
       "      <th>team</th>\n",
       "      <th>date</th>\n",
       "      <th>season</th>\n",
       "    </tr>\n",
       "  </thead>\n",
       "  <tbody>\n",
       "    <tr>\n",
       "      <th>0</th>\n",
       "      <td>0</td>\n",
       "      <td>2</td>\n",
       "      <td>3</td>\n",
       "      <td>5</td>\n",
       "      <td>3</td>\n",
       "      <td>0.60</td>\n",
       "      <td>5</td>\n",
       "      <td>0.385</td>\n",
       "      <td>13</td>\n",
       "      <td>3</td>\n",
       "      <td>...</td>\n",
       "      <td>1.5</td>\n",
       "      <td>11.3</td>\n",
       "      <td>11.0</td>\n",
       "      <td>0.512</td>\n",
       "      <td>22.7</td>\n",
       "      <td>1</td>\n",
       "      <td>201610250CLE</td>\n",
       "      <td>NYK</td>\n",
       "      <td>2016-10-25</td>\n",
       "      <td>2017</td>\n",
       "    </tr>\n",
       "    <tr>\n",
       "      <th>1</th>\n",
       "      <td>3</td>\n",
       "      <td>0</td>\n",
       "      <td>4</td>\n",
       "      <td>8</td>\n",
       "      <td>1</td>\n",
       "      <td>0.25</td>\n",
       "      <td>4</td>\n",
       "      <td>0.444</td>\n",
       "      <td>18</td>\n",
       "      <td>2</td>\n",
       "      <td>...</td>\n",
       "      <td>1.6</td>\n",
       "      <td>17.5</td>\n",
       "      <td>8.6</td>\n",
       "      <td>0.503</td>\n",
       "      <td>32.1</td>\n",
       "      <td>1</td>\n",
       "      <td>201610250CLE</td>\n",
       "      <td>NYK</td>\n",
       "      <td>2016-10-25</td>\n",
       "      <td>2017</td>\n",
       "    </tr>\n",
       "    <tr>\n",
       "      <th>2</th>\n",
       "      <td>1</td>\n",
       "      <td>1</td>\n",
       "      <td>1</td>\n",
       "      <td>7</td>\n",
       "      <td>1</td>\n",
       "      <td>0.50</td>\n",
       "      <td>2</td>\n",
       "      <td>0.412</td>\n",
       "      <td>17</td>\n",
       "      <td>2</td>\n",
       "      <td>...</td>\n",
       "      <td>0.0</td>\n",
       "      <td>18.3</td>\n",
       "      <td>5.2</td>\n",
       "      <td>0.475</td>\n",
       "      <td>31.2</td>\n",
       "      <td>1</td>\n",
       "      <td>201610250CLE</td>\n",
       "      <td>NYK</td>\n",
       "      <td>2016-10-25</td>\n",
       "      <td>2017</td>\n",
       "    </tr>\n",
       "    <tr>\n",
       "      <th>3</th>\n",
       "      <td>0</td>\n",
       "      <td>1</td>\n",
       "      <td>2</td>\n",
       "      <td>0</td>\n",
       "      <td>0</td>\n",
       "      <td>0.00</td>\n",
       "      <td>2</td>\n",
       "      <td>0.000</td>\n",
       "      <td>5</td>\n",
       "      <td>0</td>\n",
       "      <td>...</td>\n",
       "      <td>0.0</td>\n",
       "      <td>28.6</td>\n",
       "      <td>7.9</td>\n",
       "      <td>0.000</td>\n",
       "      <td>15.1</td>\n",
       "      <td>1</td>\n",
       "      <td>201610250CLE</td>\n",
       "      <td>NYK</td>\n",
       "      <td>2016-10-25</td>\n",
       "      <td>2017</td>\n",
       "    </tr>\n",
       "    <tr>\n",
       "      <th>4</th>\n",
       "      <td>3</td>\n",
       "      <td>0</td>\n",
       "      <td>5</td>\n",
       "      <td>0</td>\n",
       "      <td>0</td>\n",
       "      <td>NaN</td>\n",
       "      <td>0</td>\n",
       "      <td>0.000</td>\n",
       "      <td>1</td>\n",
       "      <td>0</td>\n",
       "      <td>...</td>\n",
       "      <td>2.5</td>\n",
       "      <td>50.0</td>\n",
       "      <td>15.9</td>\n",
       "      <td>0.000</td>\n",
       "      <td>4.3</td>\n",
       "      <td>1</td>\n",
       "      <td>201610250CLE</td>\n",
       "      <td>NYK</td>\n",
       "      <td>2016-10-25</td>\n",
       "      <td>2017</td>\n",
       "    </tr>\n",
       "  </tbody>\n",
       "</table>\n",
       "<p>5 rows × 42 columns</p>\n",
       "</div>"
      ],
      "text/plain": [
       "   ast  blk  drb  fg  fg3  fg3_pct  fg3a  fg_pct  fga  ft   ...    stl_pct  \\\n",
       "0    0    2    3   5    3     0.60     5   0.385   13   3   ...        1.5   \n",
       "1    3    0    4   8    1     0.25     4   0.444   18   2   ...        1.6   \n",
       "2    1    1    1   7    1     0.50     2   0.412   17   2   ...        0.0   \n",
       "3    0    1    2   0    0     0.00     2   0.000    5   0   ...        0.0   \n",
       "4    3    0    5   0    0      NaN     0   0.000    1   0   ...        2.5   \n",
       "\n",
       "   tov_pct trb_pct ts_pct usg_pct  g_num          g_id team       date  season  \n",
       "0     11.3    11.0  0.512    22.7      1  201610250CLE  NYK 2016-10-25    2017  \n",
       "1     17.5     8.6  0.503    32.1      1  201610250CLE  NYK 2016-10-25    2017  \n",
       "2     18.3     5.2  0.475    31.2      1  201610250CLE  NYK 2016-10-25    2017  \n",
       "3     28.6     7.9  0.000    15.1      1  201610250CLE  NYK 2016-10-25    2017  \n",
       "4     50.0    15.9  0.000     4.3      1  201610250CLE  NYK 2016-10-25    2017  \n",
       "\n",
       "[5 rows x 42 columns]"
      ]
     },
     "execution_count": 7,
     "metadata": {},
     "output_type": "execute_result"
    }
   ],
   "source": [
    "print df.shape\n",
    "df.head()"
   ]
  },
  {
   "cell_type": "code",
   "execution_count": 15,
   "metadata": {
    "collapsed": false
   },
   "outputs": [
    {
     "data": {
      "text/plain": [
       "1309"
      ]
     },
     "execution_count": 15,
     "metadata": {},
     "output_type": "execute_result"
    }
   ],
   "source": [
    "len(np.unique(df['g_id']))"
   ]
  },
  {
   "cell_type": "code",
   "execution_count": 16,
   "metadata": {
    "collapsed": true
   },
   "outputs": [],
   "source": [
    "mytable = df.groupby(['g_id','team']).size()"
   ]
  },
  {
   "cell_type": "code",
   "execution_count": 17,
   "metadata": {
    "collapsed": false
   },
   "outputs": [
    {
     "data": {
      "text/plain": [
       "g_id          team\n",
       "201610250CLE  CLE     13\n",
       "              NYK     13\n",
       "201610250GSW  GSW     13\n",
       "              SAS     13\n",
       "201610250POR  POR     10\n",
       "              UTA     10\n",
       "201610260BOS  BOS     10\n",
       "              BRK     12\n",
       "201610260IND  DAL     12\n",
       "              IND     11\n",
       "201610260LAL  HOU     10\n",
       "              LAL     12\n",
       "201610260MEM  MEM      9\n",
       "              MIN     10\n",
       "201610260MIL  CHH     10\n",
       "              MIL     11\n",
       "201610260NOP  DEN     10\n",
       "              NOP     11\n",
       "201610260ORL  MIA      9\n",
       "              ORL      8\n",
       "201610260PHI  OKC     10\n",
       "              PHI     11\n",
       "201610260PHO  PHO     12\n",
       "              SAC     12\n",
       "201610260TOR  DET     12\n",
       "              TOR     10\n",
       "201610270ATL  ATL     12\n",
       "              WAS     13\n",
       "201610270CHI  BOS     10\n",
       "              CHI     10\n",
       "                      ..\n",
       "201705140GSW  GSW     11\n",
       "              SAS     11\n",
       "201705150BOS  BOS     10\n",
       "              WAS     12\n",
       "201705160GSW  GSW     13\n",
       "              SAS     13\n",
       "201705170BOS  BOS     12\n",
       "              CLE     12\n",
       "201705190BOS  BOS     13\n",
       "              CLE     13\n",
       "201705200SAS  GSW     12\n",
       "              SAS     13\n",
       "201705210CLE  BOS     11\n",
       "              CLE      9\n",
       "201705220SAS  GSW     13\n",
       "              SAS     11\n",
       "201705230CLE  BOS      9\n",
       "              CLE      9\n",
       "201705250BOS  BOS     13\n",
       "              CLE     13\n",
       "201706010GSW  CLE     12\n",
       "              GSW     13\n",
       "201706040GSW  CLE     13\n",
       "              GSW     13\n",
       "201706070CLE  CLE      9\n",
       "              GSW     13\n",
       "201706090CLE  CLE     12\n",
       "              GSW     13\n",
       "201706120GSW  CLE      9\n",
       "              GSW     10\n",
       "Length: 2618, dtype: int64"
      ]
     },
     "execution_count": 17,
     "metadata": {},
     "output_type": "execute_result"
    }
   ],
   "source": [
    "mytable"
   ]
  },
  {
   "cell_type": "code",
   "execution_count": 48,
   "metadata": {
    "collapsed": false
   },
   "outputs": [],
   "source": [
    "df = fix_dates(df)\n",
    "\n",
    "df_reg = get_reg_season(df, 2017)\n",
    "df_playoff = get_playoffs(df, 2017)"
   ]
  },
  {
   "cell_type": "code",
   "execution_count": 60,
   "metadata": {
    "collapsed": false
   },
   "outputs": [],
   "source": [
    "counts_reg = df_reg.groupby(['g_id','team']).size().reset_index().rename(columns={0:'count'})"
   ]
  },
  {
   "cell_type": "code",
   "execution_count": 62,
   "metadata": {
    "collapsed": false
   },
   "outputs": [
    {
     "data": {
      "text/html": [
       "<div>\n",
       "<style scoped>\n",
       "    .dataframe tbody tr th:only-of-type {\n",
       "        vertical-align: middle;\n",
       "    }\n",
       "\n",
       "    .dataframe tbody tr th {\n",
       "        vertical-align: top;\n",
       "    }\n",
       "\n",
       "    .dataframe thead th {\n",
       "        text-align: right;\n",
       "    }\n",
       "</style>\n",
       "<table border=\"1\" class=\"dataframe\">\n",
       "  <thead>\n",
       "    <tr style=\"text-align: right;\">\n",
       "      <th></th>\n",
       "      <th>g_id</th>\n",
       "      <th>team</th>\n",
       "      <th>count</th>\n",
       "    </tr>\n",
       "  </thead>\n",
       "  <tbody>\n",
       "    <tr>\n",
       "      <th>0</th>\n",
       "      <td>201610250CLE</td>\n",
       "      <td>CLE</td>\n",
       "      <td>13</td>\n",
       "    </tr>\n",
       "    <tr>\n",
       "      <th>1</th>\n",
       "      <td>201610250CLE</td>\n",
       "      <td>NYK</td>\n",
       "      <td>13</td>\n",
       "    </tr>\n",
       "    <tr>\n",
       "      <th>2</th>\n",
       "      <td>201610250GSW</td>\n",
       "      <td>GSW</td>\n",
       "      <td>13</td>\n",
       "    </tr>\n",
       "    <tr>\n",
       "      <th>3</th>\n",
       "      <td>201610250GSW</td>\n",
       "      <td>SAS</td>\n",
       "      <td>13</td>\n",
       "    </tr>\n",
       "    <tr>\n",
       "      <th>4</th>\n",
       "      <td>201610250POR</td>\n",
       "      <td>POR</td>\n",
       "      <td>10</td>\n",
       "    </tr>\n",
       "  </tbody>\n",
       "</table>\n",
       "</div>"
      ],
      "text/plain": [
       "           g_id team  count\n",
       "0  201610250CLE  CLE     13\n",
       "1  201610250CLE  NYK     13\n",
       "2  201610250GSW  GSW     13\n",
       "3  201610250GSW  SAS     13\n",
       "4  201610250POR  POR     10"
      ]
     },
     "execution_count": 62,
     "metadata": {},
     "output_type": "execute_result"
    }
   ],
   "source": [
    "counts_reg.head()"
   ]
  },
  {
   "cell_type": "code",
   "execution_count": 63,
   "metadata": {
    "collapsed": false
   },
   "outputs": [
    {
     "data": {
      "text/plain": [
       "10.62479674796748"
      ]
     },
     "execution_count": 63,
     "metadata": {},
     "output_type": "execute_result"
    }
   ],
   "source": [
    "np.mean(counts_reg['count'])"
   ]
  },
  {
   "cell_type": "code",
   "execution_count": 64,
   "metadata": {
    "collapsed": false
   },
   "outputs": [
    {
     "data": {
      "text/plain": [
       "0.01869918699186992"
      ]
     },
     "execution_count": 64,
     "metadata": {},
     "output_type": "execute_result"
    }
   ],
   "source": [
    "float(sum(counts_reg['count'] < 9))/len(counts_reg['count'])"
   ]
  },
  {
   "cell_type": "code",
   "execution_count": 65,
   "metadata": {
    "collapsed": false
   },
   "outputs": [
    {
     "data": {
      "text/plain": [
       "46"
      ]
     },
     "execution_count": 65,
     "metadata": {},
     "output_type": "execute_result"
    }
   ],
   "source": [
    "sum(counts_reg['count'] < 9)"
   ]
  },
  {
   "cell_type": "code",
   "execution_count": 70,
   "metadata": {
    "collapsed": false
   },
   "outputs": [
    {
     "data": {
      "text/plain": [
       "2460"
      ]
     },
     "execution_count": 70,
     "metadata": {},
     "output_type": "execute_result"
    }
   ],
   "source": [
    "len(counts_reg)"
   ]
  },
  {
   "cell_type": "code",
   "execution_count": 69,
   "metadata": {
    "collapsed": false
   },
   "outputs": [
    {
     "data": {
      "image/png": "[encoded data removed]",
      "text/plain": [
       "<matplotlib.figure.Figure at 0x10ff86dd0>"
      ]
     },
     "metadata": {},
     "output_type": "display_data"
    }
   ],
   "source": [
    "plt.hist(counts_reg['count'], bins=7)\n",
    "plt.show()"
   ]
  },
  {
   "cell_type": "code",
   "execution_count": 55,
   "metadata": {
    "collapsed": true
   },
   "outputs": [],
   "source": [
    "counts_playoff = df_playoff.groupby(['g_id','team']).size().reset_index().rename(columns={0:'count'})"
   ]
  },
  {
   "cell_type": "code",
   "execution_count": 56,
   "metadata": {
    "collapsed": false
   },
   "outputs": [
    {
     "data": {
      "text/html": [
       "<div>\n",
       "<style scoped>\n",
       "    .dataframe tbody tr th:only-of-type {\n",
       "        vertical-align: middle;\n",
       "    }\n",
       "\n",
       "    .dataframe tbody tr th {\n",
       "        vertical-align: top;\n",
       "    }\n",
       "\n",
       "    .dataframe thead th {\n",
       "        text-align: right;\n",
       "    }\n",
       "</style>\n",
       "<table border=\"1\" class=\"dataframe\">\n",
       "  <thead>\n",
       "    <tr style=\"text-align: right;\">\n",
       "      <th></th>\n",
       "      <th>g_id</th>\n",
       "      <th>team</th>\n",
       "      <th>count</th>\n",
       "    </tr>\n",
       "  </thead>\n",
       "  <tbody>\n",
       "    <tr>\n",
       "      <th>0</th>\n",
       "      <td>201704150CLE</td>\n",
       "      <td>CLE</td>\n",
       "      <td>9</td>\n",
       "    </tr>\n",
       "    <tr>\n",
       "      <th>1</th>\n",
       "      <td>201704150CLE</td>\n",
       "      <td>IND</td>\n",
       "      <td>10</td>\n",
       "    </tr>\n",
       "    <tr>\n",
       "      <th>2</th>\n",
       "      <td>201704150LAC</td>\n",
       "      <td>LAC</td>\n",
       "      <td>9</td>\n",
       "    </tr>\n",
       "    <tr>\n",
       "      <th>3</th>\n",
       "      <td>201704150LAC</td>\n",
       "      <td>UTA</td>\n",
       "      <td>10</td>\n",
       "    </tr>\n",
       "    <tr>\n",
       "      <th>4</th>\n",
       "      <td>201704150SAS</td>\n",
       "      <td>MEM</td>\n",
       "      <td>13</td>\n",
       "    </tr>\n",
       "  </tbody>\n",
       "</table>\n",
       "</div>"
      ],
      "text/plain": [
       "           g_id team  count\n",
       "0  201704150CLE  CLE      9\n",
       "1  201704150CLE  IND     10\n",
       "2  201704150LAC  LAC      9\n",
       "3  201704150LAC  UTA     10\n",
       "4  201704150SAS  MEM     13"
      ]
     },
     "execution_count": 56,
     "metadata": {},
     "output_type": "execute_result"
    }
   ],
   "source": [
    "counts_playoff.head()"
   ]
  },
  {
   "cell_type": "code",
   "execution_count": 59,
   "metadata": {
    "collapsed": false
   },
   "outputs": [
    {
     "data": {
      "text/plain": [
       "0.0379746835443038"
      ]
     },
     "execution_count": 59,
     "metadata": {},
     "output_type": "execute_result"
    }
   ],
   "source": [
    "float(sum(counts_playoff['count'] < 9))/len(counts_playoff['count'])"
   ]
  },
  {
   "cell_type": "code",
   "execution_count": null,
   "metadata": {
    "collapsed": true
   },
   "outputs": [],
   "source": []
  }
 ],
 "metadata": {
  "kernelspec": {
   "display_name": "Python [Root]",
   "language": "python",
   "name": "Python [Root]"
  },
  "language_info": {
   "codemirror_mode": {
    "name": "ipython",
    "version": 2
   },
   "file_extension": ".py",
   "mimetype": "text/x-python",
   "name": "python",
   "nbconvert_exporter": "python",
   "pygments_lexer": "ipython2",
   "version": "2.7.12"
  }
 },
 "nbformat": 4,
 "nbformat_minor": 0
}
